{
 "cells": [
  {
   "cell_type": "code",
   "execution_count": 7,
   "metadata": {
    "collapsed": false
   },
   "outputs": [
    {
     "ename": "ValueError",
     "evalue": "Trailing data",
     "output_type": "error",
     "traceback": [
      "\u001b[0;31m---------------------------------------------------------------------------\u001b[0m",
      "\u001b[0;31mValueError\u001b[0m                                Traceback (most recent call last)",
      "\u001b[0;32m<ipython-input-7-37fda2723dbc>\u001b[0m in \u001b[0;36m<module>\u001b[0;34m()\u001b[0m\n\u001b[1;32m      9\u001b[0m \u001b[0;31m# Read in json files and create dataframes\u001b[0m\u001b[0;34m\u001b[0m\u001b[0;34m\u001b[0m\u001b[0m\n\u001b[1;32m     10\u001b[0m \u001b[0mfilename\u001b[0m \u001b[0;34m=\u001b[0m \u001b[0;34m'2017-03-2508:49:57.338330.AppleFree.json'\u001b[0m\u001b[0;34m\u001b[0m\u001b[0m\n\u001b[0;32m---> 11\u001b[0;31m \u001b[0mdata\u001b[0m \u001b[0;34m=\u001b[0m \u001b[0mpd\u001b[0m\u001b[0;34m.\u001b[0m\u001b[0mread_json\u001b[0m\u001b[0;34m(\u001b[0m\u001b[0mfilename\u001b[0m\u001b[0;34m)\u001b[0m\u001b[0;34m\u001b[0m\u001b[0m\n\u001b[0m\u001b[1;32m     12\u001b[0m \u001b[0mfilename2\u001b[0m \u001b[0;34m=\u001b[0m \u001b[0;34m'2017-03-3013:05:23.656162.AppleFree.json'\u001b[0m\u001b[0;34m\u001b[0m\u001b[0m\n\u001b[1;32m     13\u001b[0m \u001b[0mdata2\u001b[0m \u001b[0;34m=\u001b[0m \u001b[0mpd\u001b[0m\u001b[0;34m.\u001b[0m\u001b[0mread_json\u001b[0m\u001b[0;34m(\u001b[0m\u001b[0mfilename2\u001b[0m\u001b[0;34m)\u001b[0m\u001b[0;34m\u001b[0m\u001b[0m\n",
      "\u001b[0;32m/Users/BLUE/anaconda/lib/python3.5/site-packages/pandas/io/json.py\u001b[0m in \u001b[0;36mread_json\u001b[0;34m(path_or_buf, orient, typ, dtype, convert_axes, convert_dates, keep_default_dates, numpy, precise_float, date_unit)\u001b[0m\n\u001b[1;32m    209\u001b[0m         obj = FrameParser(json, orient, dtype, convert_axes, convert_dates,\n\u001b[1;32m    210\u001b[0m                           \u001b[0mkeep_default_dates\u001b[0m\u001b[0;34m,\u001b[0m \u001b[0mnumpy\u001b[0m\u001b[0;34m,\u001b[0m \u001b[0mprecise_float\u001b[0m\u001b[0;34m,\u001b[0m\u001b[0;34m\u001b[0m\u001b[0m\n\u001b[0;32m--> 211\u001b[0;31m                           date_unit).parse()\n\u001b[0m\u001b[1;32m    212\u001b[0m \u001b[0;34m\u001b[0m\u001b[0m\n\u001b[1;32m    213\u001b[0m     \u001b[0;32mif\u001b[0m \u001b[0mtyp\u001b[0m \u001b[0;34m==\u001b[0m \u001b[0;34m'series'\u001b[0m \u001b[0;32mor\u001b[0m \u001b[0mobj\u001b[0m \u001b[0;32mis\u001b[0m \u001b[0;32mNone\u001b[0m\u001b[0;34m:\u001b[0m\u001b[0;34m\u001b[0m\u001b[0m\n",
      "\u001b[0;32m/Users/BLUE/anaconda/lib/python3.5/site-packages/pandas/io/json.py\u001b[0m in \u001b[0;36mparse\u001b[0;34m(self)\u001b[0m\n\u001b[1;32m    277\u001b[0m \u001b[0;34m\u001b[0m\u001b[0m\n\u001b[1;32m    278\u001b[0m         \u001b[0;32melse\u001b[0m\u001b[0;34m:\u001b[0m\u001b[0;34m\u001b[0m\u001b[0m\n\u001b[0;32m--> 279\u001b[0;31m             \u001b[0mself\u001b[0m\u001b[0;34m.\u001b[0m\u001b[0m_parse_no_numpy\u001b[0m\u001b[0;34m(\u001b[0m\u001b[0;34m)\u001b[0m\u001b[0;34m\u001b[0m\u001b[0m\n\u001b[0m\u001b[1;32m    280\u001b[0m \u001b[0;34m\u001b[0m\u001b[0m\n\u001b[1;32m    281\u001b[0m         \u001b[0;32mif\u001b[0m \u001b[0mself\u001b[0m\u001b[0;34m.\u001b[0m\u001b[0mobj\u001b[0m \u001b[0;32mis\u001b[0m \u001b[0;32mNone\u001b[0m\u001b[0;34m:\u001b[0m\u001b[0;34m\u001b[0m\u001b[0m\n",
      "\u001b[0;32m/Users/BLUE/anaconda/lib/python3.5/site-packages/pandas/io/json.py\u001b[0m in \u001b[0;36m_parse_no_numpy\u001b[0;34m(self)\u001b[0m\n\u001b[1;32m    494\u001b[0m         \u001b[0;32mif\u001b[0m \u001b[0morient\u001b[0m \u001b[0;34m==\u001b[0m \u001b[0;34m\"columns\"\u001b[0m\u001b[0;34m:\u001b[0m\u001b[0;34m\u001b[0m\u001b[0m\n\u001b[1;32m    495\u001b[0m             self.obj = DataFrame(\n\u001b[0;32m--> 496\u001b[0;31m                 loads(json, precise_float=self.precise_float), dtype=None)\n\u001b[0m\u001b[1;32m    497\u001b[0m         \u001b[0;32melif\u001b[0m \u001b[0morient\u001b[0m \u001b[0;34m==\u001b[0m \u001b[0;34m\"split\"\u001b[0m\u001b[0;34m:\u001b[0m\u001b[0;34m\u001b[0m\u001b[0m\n\u001b[1;32m    498\u001b[0m             decoded = dict((str(k), v)\n",
      "\u001b[0;31mValueError\u001b[0m: Trailing data"
     ]
    }
   ],
   "source": [
    "# This is the data from multiple dates of the Apple Top Free Chart\n",
    "\n",
    "import matplotlib\n",
    "import numpy as np\n",
    "import matplotlib.pyplot as plt\n",
    "%matplotlib inline\n",
    "import pandas as pd\n",
    "\n",
    "# Read in json files and create dataframes\n",
    "filename = '2017-03-2508:49:57.338330.AppleFree.json'\n",
    "data = pd.read_json(filename)\n",
    "filename2 = '2017-03-3013:05:23.656162.AppleFree.json'\n",
    "data2 = pd.read_json(filename2)\n",
    "filename3 = '2017-04-0412:37:32.743686.AppleFree.json'\n",
    "data3 = pd.read_json(filename3)"
   ]
  },
  {
   "cell_type": "code",
   "execution_count": 3,
   "metadata": {
    "collapsed": false
   },
   "outputs": [
    {
     "ename": "NameError",
     "evalue": "name 'data' is not defined",
     "output_type": "error",
     "traceback": [
      "\u001b[0;31m---------------------------------------------------------------------------\u001b[0m",
      "\u001b[0;31mNameError\u001b[0m                                 Traceback (most recent call last)",
      "\u001b[0;32m<ipython-input-3-d81c42ca1559>\u001b[0m in \u001b[0;36m<module>\u001b[0;34m()\u001b[0m\n\u001b[1;32m      1\u001b[0m \u001b[0;34m\u001b[0m\u001b[0m\n\u001b[1;32m      2\u001b[0m \u001b[0;31m# Cleaning the 'Description' column\u001b[0m\u001b[0;34m\u001b[0m\u001b[0;34m\u001b[0m\u001b[0m\n\u001b[0;32m----> 3\u001b[0;31m data['Description'].replace({'\\u00a0': ' ', \n\u001b[0m\u001b[1;32m      4\u001b[0m                           \u001b[0;34m'\\u2022'\u001b[0m \u001b[0;34m:\u001b[0m \u001b[0;34m'•'\u001b[0m\u001b[0;34m,\u001b[0m\u001b[0;34m\u001b[0m\u001b[0m\n\u001b[1;32m      5\u001b[0m                           \u001b[0;34m'\\u2013'\u001b[0m \u001b[0;34m:\u001b[0m \u001b[0;34m'-'\u001b[0m\u001b[0;34m,\u001b[0m\u001b[0;34m\u001b[0m\u001b[0m\n",
      "\u001b[0;31mNameError\u001b[0m: name 'data' is not defined"
     ]
    }
   ],
   "source": [
    "\n",
    "# Cleaning the 'Description' column\n",
    "data['Description'].replace({'\\u00a0': ' ', \n",
    "                          '\\u2022' : '•',\n",
    "                          '\\u2013' : '-',\n",
    "                          '\\u00ae' : '®',\n",
    "                          '\\u2019' : ' ',\n",
    "                          '\\u2122' : '™',\n",
    "                          '\\u2014' : '-',\n",
    "                          '\\u00b7' : '•',\n",
    "                          '\\u2013' : '-'\n",
    "                         }, inplace=True)\n",
    "data2['Description'].replace({'\\u00a0': ' ', \n",
    "                          '\\u2022' : '•',\n",
    "                          '\\u2013' : '-',\n",
    "                          '\\u00ae' : '®',\n",
    "                          '\\u2019' : ' ',\n",
    "                          '\\u2122' : '™',\n",
    "                          '\\u2014' : '-',\n",
    "                          '\\u00b7' : '•',\n",
    "                          '\\u2013' : '-'\n",
    "                         }, inplace=True)\n",
    "data3['Description'].replace({'\\u00a0': ' ', \n",
    "                          '\\u2022' : '•',\n",
    "                          '\\u2013' : '-',\n",
    "                          '\\u00ae' : '®',\n",
    "                          '\\u2019' : ' ',\n",
    "                          '\\u2122' : '™',\n",
    "                          '\\u2014' : '-',\n",
    "                          '\\u00b7' : '•',\n",
    "                          '\\u2013' : '-'\n",
    "                         }, inplace=True)\n",
    "# Cleaning the the 'Compatibility' column, all of them have the \\u00a0 error\n",
    "data['Compatibility'].replace({'\\u00a0': ' '}, inplace=True)\n",
    "data2['Compatibility'].replace({'\\u00a0': ' '}, inplace=True)\n",
    "data3['Compatibility'].replace({'\\u00a0': ' '}, inplace=True)\n"
   ]
  },
  {
   "cell_type": "code",
   "execution_count": 4,
   "metadata": {
    "collapsed": false
   },
   "outputs": [
    {
     "ename": "NameError",
     "evalue": "name 'data2' is not defined",
     "output_type": "error",
     "traceback": [
      "\u001b[0;31m---------------------------------------------------------------------------\u001b[0m",
      "\u001b[0;31mNameError\u001b[0m                                 Traceback (most recent call last)",
      "\u001b[0;32m<ipython-input-4-aa5298d6d4a2>\u001b[0m in \u001b[0;36m<module>\u001b[0;34m()\u001b[0m\n\u001b[0;32m----> 1\u001b[0;31m \u001b[0mdata2\u001b[0m\u001b[0;34m[\u001b[0m\u001b[0;34m'Description'\u001b[0m\u001b[0;34m]\u001b[0m\u001b[0;34m\u001b[0m\u001b[0m\n\u001b[0m",
      "\u001b[0;31mNameError\u001b[0m: name 'data2' is not defined"
     ]
    }
   ],
   "source": [
    "data2['Description']"
   ]
  },
  {
   "cell_type": "code",
   "execution_count": 33,
   "metadata": {
    "collapsed": false
   },
   "outputs": [
    {
     "data": {
      "text/plain": [
       "0     Tap Sports Baseball 2017 now features the offi...\n",
       "1     The gold standard for open-world action-advent...\n",
       "2     Bitmoji is your own personal emoji.• Create an...\n",
       "3     Relax your brain with the champion of time kil...\n",
       "4     Life's more fun when you live in the moment :)...\n",
       "5     Get the official YouTube app for iPhone and iP...\n",
       "6     Google Maps makes navigating your world faster...\n",
       "7     Instantly reach the people in your life—for fr...\n",
       "8     Instagram is a simple way to capture and share...\n",
       "9     Sequel to #1 puzzle game, KAMIThe calming yet ...\n",
       "10    Listen to your favorite radio stations for fre...\n",
       "11    Keeping up with friends is faster than ever. •...\n",
       "12    Subscribe Now on Your iPhone® or iPad®Watch TV...\n",
       "13    Uber is a ridesharing app for fast, reliable r...\n",
       "14    Spotify is the best way to listen to music on ...\n",
       "15    The official Gmail app brings the best of Gmai...\n",
       "16    HOOKED lets you read amazing chat stories FREE...\n",
       "17    Over 100 million people are getting trending i...\n",
       "18    Comprehensive You need toothpaste, golf clubs,...\n",
       "19    Pinterest is the world’s catalog of ideas. Fin...\n",
       "20    Chicken scream is a fun and interactive non ta...\n",
       "21    Powered by the Music Genome Project®, the most...\n",
       "22    WhatsApp Messenger is a FREE messaging app ava...\n",
       "23    Watch every game live with the official app of...\n",
       "24    Where your adventures begin!Discover a destina...\n",
       "25    SoundCloud is the world's largest music and au...\n",
       "26    Buy. Sell. Simple. • The biggest mobile market...\n",
       "27    ** IMPORTANT - SUPPORTED DEVICESiPhone 4S, iPa...\n",
       "28    World's best words puzzle game \"Word Cookies\"T...\n",
       "29    See what’s happening in the world right now. F...\n",
       "                            ...                        \n",
       "70    Live a healthier, more active life with Fitbit...\n",
       "71    The sequel to the smash hit phenomenon that to...\n",
       "72    Mobile Strike is an exciting new action game o...\n",
       "73    You’re not just looking for a house. You’re lo...\n",
       "74    Pay your friends instantly, and cash out to yo...\n",
       "75    Get connected. Kik is way more than just messa...\n",
       "76    Get connected. Kik is way more than just messa...\n",
       "77    Get connected. Kik is way more than just messa...\n",
       "78    Get connected. Kik is way more than just messa...\n",
       "79    Take WWE with you wherever you go – any time, ...\n",
       "80    YouTube Music lets you watch and listen to a n...\n",
       "81    YouTube Music lets you watch and listen to a n...\n",
       "82    • Text translation: Translate between 103 lang...\n",
       "83    Join in the fun! Sing your favorite top hits w...\n",
       "84    The original and best prank call app. PrankDia...\n",
       "85    【Downloaded and played by over 30 million user...\n",
       "86    The eBay app is the easiest way to buy or sell...\n",
       "87    Boomerang from Instagram makes everyday moment...\n",
       "88    Boomerang from Instagram makes everyday moment...\n",
       "89    Impress friends with amazing videos and photo ...\n",
       "90    Impress friends with amazing videos and photo ...\n",
       "91    GroupMe - A Home for All the Groups in Your Li...\n",
       "92    Create, edit, and collaborate with others on p...\n",
       "93    Rita Repulsa, the space witch, has infected th...\n",
       "94    Rita Repulsa, the space witch, has infected th...\n",
       "95    Keep your friends close with Marco Polo.HOW IT...\n",
       "96    Grab your blocky bat and step up to the plate,...\n",
       "97    Grab your blocky bat and step up to the plate,...\n",
       "98    Yarn - Text StoriesEver wanted to snoop throug...\n",
       "99    Love home decorating? Play Design Home! If you...\n",
       "Name: Description, dtype: object"
      ]
     },
     "execution_count": 33,
     "metadata": {},
     "output_type": "execute_result"
    }
   ],
   "source": [
    "data3['Description']"
   ]
  },
  {
   "cell_type": "code",
   "execution_count": 5,
   "metadata": {
    "collapsed": false
   },
   "outputs": [
    {
     "ename": "NameError",
     "evalue": "name 'data' is not defined",
     "output_type": "error",
     "traceback": [
      "\u001b[0;31m---------------------------------------------------------------------------\u001b[0m",
      "\u001b[0;31mNameError\u001b[0m                                 Traceback (most recent call last)",
      "\u001b[0;32m<ipython-input-5-75b2e63f7f3f>\u001b[0m in \u001b[0;36m<module>\u001b[0;34m()\u001b[0m\n\u001b[1;32m      1\u001b[0m \u001b[0;31m# Showing the Age Restriction column of 'data' before cleaning\u001b[0m\u001b[0;34m\u001b[0m\u001b[0;34m\u001b[0m\u001b[0m\n\u001b[0;32m----> 2\u001b[0;31m \u001b[0mdata\u001b[0m\u001b[0;34m[\u001b[0m\u001b[0;34m'Age Restriction'\u001b[0m\u001b[0;34m]\u001b[0m\u001b[0;34m\u001b[0m\u001b[0m\n\u001b[0m",
      "\u001b[0;31mNameError\u001b[0m: name 'data' is not defined"
     ]
    }
   ],
   "source": [
    "# Showing the Age Restriction column of 'data' before cleaning\n",
    "data['Age Restriction']"
   ]
  },
  {
   "cell_type": "code",
   "execution_count": 4,
   "metadata": {
    "collapsed": false
   },
   "outputs": [
    {
     "data": {
      "text/plain": [
       "0                                              Rated 4+\n",
       "1                                              Rated 4+\n",
       "2                                            Rated 12+ \n",
       "3                                              Rated 4+\n",
       "4                                            Rated 12+ \n",
       "5                                              Rated 4+\n",
       "6                                            Rated 12+ \n",
       "7                                            Rated 12+ \n",
       "8     You must be at least 17 years old to download ...\n",
       "9                                            Rated 12+ \n",
       "10                                             Rated 4+\n",
       "11                                             Rated 4+\n",
       "12                                             Rated 4+\n",
       "13                                            Rated 9+ \n",
       "14                                           Rated 12+ \n",
       "15                                             Rated 4+\n",
       "16                                           Rated 12+ \n",
       "17                                             Rated 4+\n",
       "18                                             Rated 4+\n",
       "19                                           Rated 12+ \n",
       "20                                             Rated 4+\n",
       "21                                           Rated 12+ \n",
       "22                                             Rated 4+\n",
       "23                                             Rated 4+\n",
       "24                                             Rated 4+\n",
       "25                                             Rated 4+\n",
       "26    You must be at least 17 years old to download ...\n",
       "27                                           Rated 12+ \n",
       "28                                             Rated 4+\n",
       "29    You must be at least 17 years old to download ...\n",
       "                            ...                        \n",
       "70                                             Rated 4+\n",
       "71                                             Rated 4+\n",
       "72                                             Rated 4+\n",
       "73    You must be at least 17 years old to download ...\n",
       "74                                             Rated 4+\n",
       "75                                             Rated 4+\n",
       "76                                            Rated 9+ \n",
       "77                                             Rated 4+\n",
       "78                                             Rated 4+\n",
       "79                                            Rated 9+ \n",
       "80                                           Rated 12+ \n",
       "81                                           Rated 12+ \n",
       "82                                             Rated 4+\n",
       "83                                             Rated 4+\n",
       "84                                             Rated 4+\n",
       "85                                           Rated 12+ \n",
       "86                                             Rated 4+\n",
       "87                                             Rated 4+\n",
       "88                                             Rated 4+\n",
       "89    You must be at least 17 years old to download ...\n",
       "90                                           Rated 12+ \n",
       "91                                             Rated 4+\n",
       "92                                             Rated 4+\n",
       "93                                             Rated 4+\n",
       "94                                             Rated 4+\n",
       "95                                             Rated 4+\n",
       "96                                           Rated 12+ \n",
       "97                                           Rated 12+ \n",
       "98                                             Rated 4+\n",
       "99                                             Rated 4+\n",
       "Name: Age Restriction, dtype: object"
      ]
     },
     "execution_count": 4,
     "metadata": {},
     "output_type": "execute_result"
    }
   ],
   "source": [
    "# Showing the Age Restriction column of 'data2' before cleaning\n",
    "data2['Age Restriction']"
   ]
  },
  {
   "cell_type": "code",
   "execution_count": 6,
   "metadata": {
    "collapsed": false
   },
   "outputs": [
    {
     "ename": "NameError",
     "evalue": "name 'data3' is not defined",
     "output_type": "error",
     "traceback": [
      "\u001b[0;31m---------------------------------------------------------------------------\u001b[0m",
      "\u001b[0;31mNameError\u001b[0m                                 Traceback (most recent call last)",
      "\u001b[0;32m<ipython-input-6-334645c127a5>\u001b[0m in \u001b[0;36m<module>\u001b[0;34m()\u001b[0m\n\u001b[1;32m      1\u001b[0m \u001b[0;31m# Showing the Age Restriction column of 'data3' before cleaning\u001b[0m\u001b[0;34m\u001b[0m\u001b[0;34m\u001b[0m\u001b[0m\n\u001b[0;32m----> 2\u001b[0;31m \u001b[0mdata3\u001b[0m\u001b[0;34m[\u001b[0m\u001b[0;34m'Age Restriction'\u001b[0m\u001b[0;34m]\u001b[0m\u001b[0;34m\u001b[0m\u001b[0m\n\u001b[0m",
      "\u001b[0;31mNameError\u001b[0m: name 'data3' is not defined"
     ]
    }
   ],
   "source": [
    "# Showing the Age Restriction column of 'data3' before cleaning\n",
    "data3['Age Restriction']"
   ]
  },
  {
   "cell_type": "code",
   "execution_count": 27,
   "metadata": {
    "collapsed": false
   },
   "outputs": [],
   "source": [
    "# Cleaning the Age Restriction column\n",
    "data['Age Restriction'].replace({'Rated 4+': '4+',\n",
    "                                'Rated 9+': '9+',\n",
    "                                'Rated 12+ ': '12+',\n",
    "                                'You must be at least 17 years old to download this app.': '17+',}\n",
    "                                , inplace=True)\n",
    "data2['Age Restriction'].replace({'Rated 4+': '4+',\n",
    "                                'Rated 9+ ': '9+',\n",
    "                                'Rated 12+ ': '12+',\n",
    "                                'You must be at least 17 years old to download this app.': '17+',}\n",
    "                                , inplace=True)\n",
    "data3['Age Restriction'].replace({'Rated 4+': '4+',\n",
    "                                'Rated 9+ ': '9+',\n",
    "                                'Rated 12+ ': '12+',\n",
    "                                'You must be at least 17 years old to download this app.': '17+',}\n",
    "                                , inplace=True)"
   ]
  },
  {
   "cell_type": "code",
   "execution_count": 20,
   "metadata": {
    "collapsed": false
   },
   "outputs": [
    {
     "data": {
      "text/plain": [
       "0      4+\n",
       "1     12+\n",
       "2     12+\n",
       "3     12+\n",
       "4     12+\n",
       "5      4+\n",
       "6     12+\n",
       "7     17+\n",
       "8      4+\n",
       "9      4+\n",
       "10    12+\n",
       "11     4+\n",
       "12     4+\n",
       "13     4+\n",
       "14    12+\n",
       "15    12+\n",
       "16     4+\n",
       "17     4+\n",
       "18     4+\n",
       "19     4+\n",
       "20     4+\n",
       "21    12+\n",
       "22     4+\n",
       "23     4+\n",
       "24     4+\n",
       "25     4+\n",
       "26     4+\n",
       "27    17+\n",
       "28    17+\n",
       "29     4+\n",
       "     ... \n",
       "70     4+\n",
       "71     4+\n",
       "72     4+\n",
       "73     4+\n",
       "74     4+\n",
       "75     4+\n",
       "76     4+\n",
       "77     4+\n",
       "78     4+\n",
       "79     4+\n",
       "80     4+\n",
       "81     4+\n",
       "82     4+\n",
       "83     4+\n",
       "84     4+\n",
       "85     4+\n",
       "86     4+\n",
       "87     4+\n",
       "88     4+\n",
       "89     4+\n",
       "90     4+\n",
       "91     4+\n",
       "92     4+\n",
       "93     4+\n",
       "94     4+\n",
       "95     4+\n",
       "96     4+\n",
       "97     4+\n",
       "98     4+\n",
       "99     4+\n",
       "Name: Age Restriction, dtype: object"
      ]
     },
     "execution_count": 20,
     "metadata": {},
     "output_type": "execute_result"
    }
   ],
   "source": [
    "# Showing the Age Restriction Column of 'data' after cleaning\n",
    "data['Age Restriction']"
   ]
  },
  {
   "cell_type": "code",
   "execution_count": 28,
   "metadata": {
    "collapsed": false
   },
   "outputs": [
    {
     "data": {
      "text/plain": [
       "0      4+\n",
       "1      4+\n",
       "2     12+\n",
       "3      4+\n",
       "4     12+\n",
       "5      4+\n",
       "6     12+\n",
       "7     12+\n",
       "8     17+\n",
       "9     12+\n",
       "10     4+\n",
       "11     4+\n",
       "12     4+\n",
       "13     9+\n",
       "14    12+\n",
       "15     4+\n",
       "16    12+\n",
       "17     4+\n",
       "18     4+\n",
       "19    12+\n",
       "20     4+\n",
       "21    12+\n",
       "22     4+\n",
       "23     4+\n",
       "24     4+\n",
       "25     4+\n",
       "26    17+\n",
       "27    12+\n",
       "28     4+\n",
       "29    17+\n",
       "     ... \n",
       "70     4+\n",
       "71     4+\n",
       "72     4+\n",
       "73    17+\n",
       "74     4+\n",
       "75     4+\n",
       "76     9+\n",
       "77     4+\n",
       "78     4+\n",
       "79     9+\n",
       "80    12+\n",
       "81    12+\n",
       "82     4+\n",
       "83     4+\n",
       "84     4+\n",
       "85    12+\n",
       "86     4+\n",
       "87     4+\n",
       "88     4+\n",
       "89    17+\n",
       "90    12+\n",
       "91     4+\n",
       "92     4+\n",
       "93     4+\n",
       "94     4+\n",
       "95     4+\n",
       "96    12+\n",
       "97    12+\n",
       "98     4+\n",
       "99     4+\n",
       "Name: Age Restriction, dtype: object"
      ]
     },
     "execution_count": 28,
     "metadata": {},
     "output_type": "execute_result"
    }
   ],
   "source": [
    "# Showing the Age Restriction Column of 'data2' after cleaning\n",
    "data2['Age Restriction']"
   ]
  },
  {
   "cell_type": "code",
   "execution_count": 29,
   "metadata": {
    "collapsed": false
   },
   "outputs": [
    {
     "data": {
      "text/plain": [
       "0      9+\n",
       "1     17+\n",
       "2     12+\n",
       "3      4+\n",
       "4     12+\n",
       "5     17+\n",
       "6     12+\n",
       "7      4+\n",
       "8     12+\n",
       "9      4+\n",
       "10    12+\n",
       "11     4+\n",
       "12     4+\n",
       "13     4+\n",
       "14    12+\n",
       "15     4+\n",
       "16     9+\n",
       "17    12+\n",
       "18     4+\n",
       "19    12+\n",
       "20     4+\n",
       "21    12+\n",
       "22     4+\n",
       "23     4+\n",
       "24     9+\n",
       "25     4+\n",
       "26     4+\n",
       "27     9+\n",
       "28     4+\n",
       "29    17+\n",
       "     ... \n",
       "70     4+\n",
       "71     9+\n",
       "72    12+\n",
       "73     4+\n",
       "74     4+\n",
       "75    12+\n",
       "76    12+\n",
       "77    12+\n",
       "78    12+\n",
       "79    12+\n",
       "80    17+\n",
       "81    17+\n",
       "82     4+\n",
       "83     9+\n",
       "84     4+\n",
       "85     4+\n",
       "86    12+\n",
       "87     4+\n",
       "88     4+\n",
       "89    12+\n",
       "90    12+\n",
       "91     4+\n",
       "92     4+\n",
       "93    12+\n",
       "94    12+\n",
       "95     4+\n",
       "96     4+\n",
       "97     4+\n",
       "98    12+\n",
       "99     4+\n",
       "Name: Age Restriction, dtype: object"
      ]
     },
     "execution_count": 29,
     "metadata": {},
     "output_type": "execute_result"
    }
   ],
   "source": [
    "# Showing the Age Restriction Column of 'data3' after cleaning\n",
    "data3['Age Restriction']"
   ]
  },
  {
   "cell_type": "code",
   "execution_count": null,
   "metadata": {
    "collapsed": true
   },
   "outputs": [],
   "source": [
    "# One of the difficulties I had cleaning the Age Restriction data was the inconsistent whitespace \n",
    "# that appeared in a lot of the tags\n",
    "# I think that cleaning this column helps take up a lot less room, especially with the games \n",
    "# tagged 17+"
   ]
  },
  {
   "cell_type": "code",
   "execution_count": 1,
   "metadata": {
    "collapsed": false
   },
   "outputs": [
    {
     "ename": "NameError",
     "evalue": "name 'data' is not defined",
     "output_type": "error",
     "traceback": [
      "\u001b[0;31m---------------------------------------------------------------------------\u001b[0m",
      "\u001b[0;31mNameError\u001b[0m                                 Traceback (most recent call last)",
      "\u001b[0;32m<ipython-input-1-eb7f4498122f>\u001b[0m in \u001b[0;36m<module>\u001b[0;34m()\u001b[0m\n\u001b[0;32m----> 1\u001b[0;31m \u001b[0mNoDupsData\u001b[0m \u001b[0;34m=\u001b[0m \u001b[0mdata\u001b[0m\u001b[0;34m.\u001b[0m\u001b[0mdrop_duplicates\u001b[0m\u001b[0;34m(\u001b[0m\u001b[0;34m)\u001b[0m\u001b[0;34m\u001b[0m\u001b[0m\n\u001b[0m\u001b[1;32m      2\u001b[0m \u001b[0mNoDupsData2\u001b[0m \u001b[0;34m=\u001b[0m \u001b[0mdata2\u001b[0m\u001b[0;34m.\u001b[0m\u001b[0mdrop_duplicates\u001b[0m\u001b[0;34m(\u001b[0m\u001b[0;34m)\u001b[0m\u001b[0;34m\u001b[0m\u001b[0m\n\u001b[1;32m      3\u001b[0m \u001b[0mNoDupsData3\u001b[0m \u001b[0;34m=\u001b[0m \u001b[0mdata3\u001b[0m\u001b[0;34m.\u001b[0m\u001b[0mdrop_duplicates\u001b[0m\u001b[0;34m(\u001b[0m\u001b[0;34m)\u001b[0m\u001b[0;34m\u001b[0m\u001b[0m\n",
      "\u001b[0;31mNameError\u001b[0m: name 'data' is not defined"
     ]
    }
   ],
   "source": [
    "NoDupsData = data.drop_duplicates()\n",
    "NoDupsData2 = data2.drop_duplicates()\n",
    "NoDupsData3 = data3.drop_duplicates()"
   ]
  },
  {
   "cell_type": "code",
   "execution_count": null,
   "metadata": {
    "collapsed": true
   },
   "outputs": [],
   "source": []
  }
 ],
 "metadata": {
  "anaconda-cloud": {},
  "kernelspec": {
   "display_name": "Python [conda root]",
   "language": "python",
   "name": "conda-root-py"
  },
  "language_info": {
   "codemirror_mode": {
    "name": "ipython",
    "version": 3
   },
   "file_extension": ".py",
   "mimetype": "text/x-python",
   "name": "python",
   "nbconvert_exporter": "python",
   "pygments_lexer": "ipython3",
   "version": "3.5.2"
  }
 },
 "nbformat": 4,
 "nbformat_minor": 1
}
