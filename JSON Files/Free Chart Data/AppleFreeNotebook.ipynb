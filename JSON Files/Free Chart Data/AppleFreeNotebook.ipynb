{
 "cells": [
  {
   "cell_type": "code",
   "execution_count": 1,
   "metadata": {
    "collapsed": true
   },
   "outputs": [],
   "source": [
    "# Import necessary packages\n",
    "import matplotlib\n",
    "import numpy as np\n",
    "import matplotlib.pyplot as plt\n",
    "%matplotlib inline\n",
    "import pandas as pd\n",
    "\n",
    "# Read in json files and create dataframes\n",
    "# Free (F) JSON data for March 13 (0313), same naming format throughout\n",
    "filename = '2017-03-1319:13:44.248377.AppleFree.json'\n",
    "Fdata_0313 = pd.read_json(filename)\n",
    "filename2 = '2017-03-1412:37:30.296682.AppleFree.json'\n",
    "Fdata_0314 = pd.read_json(filename2)\n",
    "filename3 = '2017-03-1509:45:21.459935.AppleFree.json'\n",
    "Fdata_0315 = pd.read_json(filename3)\n",
    "filename4 = '2017-03-1611:15:04.926383.AppleFree.json'\n",
    "Fdata_0316 = pd.read_json(filename4)\n",
    "filename5 = '2017-03-2113:19:06.531592.AppleFree.json'\n",
    "Fdata_0321 = pd.read_json(filename5)"
   ]
  },
  {
   "cell_type": "code",
   "execution_count": null,
   "metadata": {
    "collapsed": true
   },
   "outputs": [],
   "source": []
  }
 ],
 "metadata": {
  "anaconda-cloud": {},
  "kernelspec": {
   "display_name": "Python [conda root]",
   "language": "python",
   "name": "conda-root-py"
  },
  "language_info": {
   "codemirror_mode": {
    "name": "ipython",
    "version": 3
   },
   "file_extension": ".py",
   "mimetype": "text/x-python",
   "name": "python",
   "nbconvert_exporter": "python",
   "pygments_lexer": "ipython3",
   "version": "3.5.2"
  }
 },
 "nbformat": 4,
 "nbformat_minor": 1
}
